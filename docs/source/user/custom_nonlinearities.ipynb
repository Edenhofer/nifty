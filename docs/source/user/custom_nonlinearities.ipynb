{
 "cells": [
  {
   "cell_type": "markdown",
   "id": "indonesian-dayton",
   "metadata": {},
   "source": [
    "# Custom nonlinearities"
   ]
  },
  {
   "cell_type": "code",
   "execution_count": null,
   "id": "duplicate-fitting",
   "metadata": {},
   "outputs": [],
   "source": [
    "import numpy as np\n",
    "\n",
    "import nifty8 as ift"
   ]
  },
  {
   "cell_type": "markdown",
   "id": "democratic-lancaster",
   "metadata": {},
   "source": [
    "In NIFTy, users can add hand-crafted point-wise nonlinearities that are then available for `Field`, `MultiField`, `Linearization` and `Operator`. This guide illustrates how this is done.\n",
    "\n",
    "Suppose that we would like to use the point-wise function f(x) = x*exp(x) in an operator chain. This function is called \"myptw\" in the following. We introduce this function to NIFTy by implementing two functions.\n",
    "\n",
    "First, one that takes a `numpy.ndarray` as an input, applies the point-wise mapping and returns the result as a `numpy.ndarray` of the same shape. Second, a function that takes a `numpy.ndarray` as an input and returns two `numpy.ndarray`s: the application of the nonlinearity (same as before) and the derivative."
   ]
  },
  {
   "cell_type": "code",
   "execution_count": null,
   "id": "modern-spouse",
   "metadata": {},
   "outputs": [],
   "source": [
    "def func(x):\n",
    "    return x*np.exp(x)\n",
    "\n",
    "\n",
    "def func_and_derv(x):\n",
    "    expx = np.exp(x)\n",
    "    return x*expx, (1+x)*expx"
   ]
  },
  {
   "cell_type": "markdown",
   "id": "shared-deficit",
   "metadata": {},
   "source": [
    "These two functions are then added to the NIFTy-internal dictionary that contains all implemented point-wise nonlinearities."
   ]
  },
  {
   "cell_type": "code",
   "execution_count": null,
   "id": "published-start",
   "metadata": {},
   "outputs": [],
   "source": [
    "ift.pointwise.ptw_dict[\"myptw\"] = func, func_and_derv"
   ]
  },
  {
   "cell_type": "markdown",
   "id": "living-surrey",
   "metadata": {},
   "source": [
    "This allows us to apply this non-linearity on `Field`s, ..."
   ]
  },
  {
   "cell_type": "code",
   "execution_count": null,
   "id": "incident-biotechnology",
   "metadata": {},
   "outputs": [],
   "source": [
    "dom = ift.UnstructuredDomain(10)\n",
    "fld = ift.from_random(dom)\n",
    "fld = ift.full(dom, 2.)\n",
    "a = fld.ptw(\"myptw\")\n",
    "b = ift.makeField(dom, func(fld.val))\n",
    "ift.extra.assert_allclose(a, b)"
   ]
  },
  {
   "cell_type": "markdown",
   "id": "palestinian-librarian",
   "metadata": {},
   "source": [
    "`MultiField`s, ..."
   ]
  },
  {
   "cell_type": "code",
   "execution_count": null,
   "id": "naval-nightmare",
   "metadata": {},
   "outputs": [],
   "source": [
    "mdom = ift.makeDomain({\"bar\": ift.UnstructuredDomain(10)})\n",
    "mfld = ift.from_random(mdom)\n",
    "a = mfld.ptw(\"myptw\")\n",
    "b = ift.makeField(mdom, {\"bar\": func(mfld[\"bar\"].val)})\n",
    "ift.extra.assert_allclose(a, b)"
   ]
  },
  {
   "cell_type": "markdown",
   "id": "legendary-oriental",
   "metadata": {},
   "source": [
    "`Linearization`s (including the Jacobian), ..."
   ]
  },
  {
   "cell_type": "code",
   "execution_count": null,
   "id": "native-breeding",
   "metadata": {},
   "outputs": [],
   "source": [
    "lin = ift.Linearization.make_var(fld)\n",
    "a = lin.ptw(\"myptw\").val\n",
    "b = ift.makeField(dom, func(fld.val))\n",
    "ift.extra.assert_allclose(a, b)"
   ]
  },
  {
   "cell_type": "code",
   "execution_count": null,
   "id": "crude-motorcycle",
   "metadata": {},
   "outputs": [],
   "source": [
    "op_a = lin.ptw(\"myptw\").jac\n",
    "op_b = ift.makeOp(ift.makeField(dom, func_and_derv(fld.val)[1]))\n",
    "testing_vector = ift.from_random(dom)\n",
    "ift.extra.assert_allclose(op_a(testing_vector),\n",
    "                          op_b(testing_vector))"
   ]
  },
  {
   "cell_type": "markdown",
   "id": "outdoor-juice",
   "metadata": {},
   "source": [
    "and `Operator`s."
   ]
  },
  {
   "cell_type": "code",
   "execution_count": null,
   "id": "retained-closer",
   "metadata": {},
   "outputs": [],
   "source": [
    "op = ift.FieldAdapter(dom, \"foo\").ptw(\"myptw\")"
   ]
  },
  {
   "cell_type": "markdown",
   "id": "accessory-pepper",
   "metadata": {},
   "source": [
    "Please remember to always check that the gradient has been implemented correctly by comparint it to an approximation to the gradient by finite differences."
   ]
  },
  {
   "cell_type": "code",
   "execution_count": null,
   "id": "close-bonus",
   "metadata": {},
   "outputs": [],
   "source": [
    "def check(func_name, eps=1e-7):\n",
    "    pos = ift.from_random(ift.UnstructuredDomain(10))\n",
    "    var0 = ift.Linearization.make_var(pos)\n",
    "    var1 = ift.Linearization.make_var(pos+eps)\n",
    "    df0 = (var1.ptw(func_name).val - var0.ptw(func_name).val)/eps\n",
    "    df1 = var0.ptw(func_name).jac(ift.full(lin.domain, 1.))\n",
    "    # rtol depends on how nonlinear the function is\n",
    "    ift.extra.assert_allclose(df0, df1, rtol=100*eps)\n",
    "\n",
    "check(\"myptw\")"
   ]
  },
  {
   "cell_type": "code",
   "execution_count": null,
   "id": "comfortable-kitty",
   "metadata": {},
   "outputs": [],
   "source": []
  }
 ],
 "metadata": {
  "kernelspec": {
   "display_name": "Python 3",
   "language": "python",
   "name": "python3"
  },
  "language_info": {
   "codemirror_mode": {
    "name": "ipython",
    "version": 3
   },
   "file_extension": ".py",
   "mimetype": "text/x-python",
   "name": "python",
   "nbconvert_exporter": "python",
   "pygments_lexer": "ipython3",
   "version": "3.9.5"
  }
 },
 "nbformat": 4,
 "nbformat_minor": 5
}
