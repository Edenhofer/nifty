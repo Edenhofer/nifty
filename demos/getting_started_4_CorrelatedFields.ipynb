{
 "cells": [
  {
   "cell_type": "markdown",
   "metadata": {},
   "source": [
    "# Notebook showcasing the NIFTy 6 Correlated Field model\n",
    "\n",
    "**Skip to `Parameter Showcases` for the meat/veggies ;)**\n",
    "\n",
    "The field model roughly works like this:\n",
    "\n",
    "`f = HT( A * zero_mode * xi ) + offset`\n",
    "\n",
    "`A` is a spectral power field which is constructed from power spectra that hold on subdomains of the target domain.\n",
    "It is scaled by a zero mode operator and then pointwise multiplied by a gaussian excitation field, yielding\n",
    "a representation of the field in harmonic space.\n",
    "It is then transformed into the target real space and a offset added.\n",
    "\n",
    "The power spectra `A` is constructed of are in turn constructed as the sum of a power law component\n",
    "and an integrated Wiener process whose amplitude and roughness can be set.\n",
    "\n",
    "## Setup code"
   ]
  },
  {
   "cell_type": "code",
   "execution_count": null,
   "metadata": {},
   "outputs": [],
   "source": [
    "import nifty7 as ift\n",
    "import matplotlib.pyplot as plt\n",
    "import numpy as np\n",
    "ift.random.push_sseq_from_seed(43)\n",
    "\n",
    "n_pix = 256\n",
    "x_space = ift.RGSpace(n_pix)"
   ]
  },
  {
   "cell_type": "code",
   "execution_count": null,
   "metadata": {},
   "outputs": [],
   "source": [
    "# Plotting routine\n",
    "def plot(fields, spectra, title=None):\n",
    "    # Plotting preparation is normally handled by nifty7.Plot\n",
    "    # It is done manually here to be able to tweak details\n",
    "    # Fields are assumed to have identical domains\n",
    "    fig = plt.figure(tight_layout=True, figsize=(12, 3.5))\n",
    "    if title is not None:\n",
    "        fig.suptitle(title, fontsize=14)\n",
    "    \n",
    "    # Field\n",
    "    ax1 = fig.add_subplot(1, 2, 1)\n",
    "    ax1.axhline(y=0., color='k', linestyle='--', alpha=0.25)\n",
    "    for field in fields:\n",
    "        dom = field.domain[0]\n",
    "        xcoord = np.arange(dom.shape[0]) * dom.distances[0]\n",
    "        ax1.plot(xcoord, field.val)\n",
    "    ax1.set_xlim(xcoord[0], xcoord[-1])\n",
    "    ax1.set_ylim(-5., 5.)\n",
    "    ax1.set_xlabel('x')\n",
    "    ax1.set_ylabel('f(x)')\n",
    "    ax1.set_title('Field realizations')\n",
    "    \n",
    "    # Spectrum\n",
    "    ax2 = fig.add_subplot(1, 2, 2)\n",
    "    for spectrum in spectra:\n",
    "        xcoord = spectrum.domain[0].k_lengths\n",
    "        ycoord = spectrum.val_rw()\n",
    "        ycoord[0] = ycoord[1]\n",
    "        ax2.plot(xcoord, ycoord)\n",
    "    ax2.set_ylim(1e-6, 10.)\n",
    "    ax2.set_xscale('log')\n",
    "    ax2.set_yscale('log')\n",
    "    ax2.set_xlabel('k')\n",
    "    ax2.set_ylabel('p(k)')\n",
    "    ax2.set_title('Power Spectrum')\n",
    "    \n",
    "    fig.align_labels()\n",
    "    plt.show()\n",
    "\n",
    "# Helper: draw main sample\n",
    "main_sample = None\n",
    "def init_model(m_pars, fl_pars):\n",
    "    global main_sample\n",
    "    cf = ift.CorrelatedFieldMaker.make(**m_pars)\n",
    "    cf.add_fluctuations(**fl_pars)\n",
    "    field = cf.finalize(prior_info=0)\n",
    "    main_sample = ift.from_random(field.domain)\n",
    "    print(\"model domain keys:\", field.domain.keys())\n",
    "    \n",
    "# Helper: field and spectrum from parameter dictionaries + plotting\n",
    "def eval_model(m_pars, fl_pars, title=None, samples=None):\n",
    "    cf = ift.CorrelatedFieldMaker.make(**m_pars)\n",
    "    cf.add_fluctuations(**fl_pars)\n",
    "    field = cf.finalize(prior_info=0)\n",
    "    spectrum = cf.amplitude\n",
    "    if samples is None:\n",
    "        samples = [main_sample]\n",
    "    field_realizations = [field(s) for s in samples]\n",
    "    spectrum_realizations = [spectrum.force(s) for s in samples]\n",
    "    plot(field_realizations, spectrum_realizations, title)\n",
    "\n",
    "def gen_samples(key_to_vary):\n",
    "    if key_to_vary is None:\n",
    "        return [main_sample]\n",
    "    dct = main_sample.to_dict()\n",
    "    subdom_to_vary = dct.pop(key_to_vary).domain\n",
    "    samples = []\n",
    "    for i in range(8):\n",
    "        d = dct.copy()\n",
    "        d[key_to_vary] = ift.from_random(subdom_to_vary)\n",
    "        samples.append(ift.MultiField.from_dict(d))\n",
    "    return samples\n",
    "        \n",
    "def vary_parameter(parameter_key, values, samples_vary_in=None):\n",
    "    s = gen_samples(samples_vary_in)\n",
    "    for v in values:\n",
    "        if parameter_key in cf_make_pars.keys():\n",
    "            m_pars = {**cf_make_pars, parameter_key: v}\n",
    "            eval_model(m_pars, cf_x_fluct_pars, f\"{parameter_key} = {v}\", s)\n",
    "        else:\n",
    "            fl_pars = {**cf_x_fluct_pars, parameter_key: v}\n",
    "            eval_model(cf_make_pars, fl_pars, f\"{parameter_key} = {v}\", s)"
   ]
  },
  {
   "cell_type": "markdown",
   "metadata": {},
   "source": [
    "## Before the Action: The Moment-Matched Log-Normal Distribution\n",
    "Many properties of the correlated field are modelled as being lognormally distributed.\n",
    "\n",
    "The distribution models are parametrized via their means and standard-deviations (first and second position in tuple).\n",
    "\n",
    "To get a feeling of how the ratio of the `mean` and `stddev` parameters influences the distribution shape,\n",
    "here are a few example histograms: (observe the x-axis!)"
   ]
  },
  {
   "cell_type": "code",
   "execution_count": null,
   "metadata": {},
   "outputs": [],
   "source": [
    "fig = plt.figure(figsize=(13, 3.5))\n",
    "mean = 1.0\n",
    "sigmas = [1.0, 0.5, 0.1]\n",
    "\n",
    "for i in range(3):\n",
    "    op = ift.LognormalTransform(mean=mean, sigma=sigmas[i],\n",
    "                                key='foo', N_copies=0)\n",
    "    op_samples = np.array(\n",
    "        [op(s).val for s in [ift.from_random(op.domain) for i in range(10000)]])\n",
    "\n",
    "    ax = fig.add_subplot(1, 3, i + 1)\n",
    "    ax.hist(op_samples, bins=50)\n",
    "    ax.set_title(f\"mean = {mean}, sigma = {sigmas[i]}\")\n",
    "    ax.set_xlabel('x')\n",
    "    del op_samples\n",
    "\n",
    "plt.show()"
   ]
  },
  {
   "cell_type": "markdown",
   "metadata": {},
   "source": [
    "## The Neutral Field\n",
    "\n",
    "To demonstrate the effect of all parameters, first a 'neutral' set of parameters\n",
    "is defined which then are varied one by one, showing the effect of the variation\n",
    "on the generated field realizations and the underlying power spectrum from which\n",
    "they were drawn.\n",
    "\n",
    "As a neutral field, a model with a white power spectrum and vanishing spectral power was chosen."
   ]
  },
  {
   "cell_type": "code",
   "execution_count": null,
   "metadata": {},
   "outputs": [],
   "source": [
    "# Neutral model parameters yielding a quasi-constant field\n",
    "cf_make_pars = {\n",
    "    'offset_mean': 0.,\n",
    "    'offset_std': (1e-3, 1e-16),\n",
    "    'prefix': ''\n",
    "}\n",
    "\n",
    "cf_x_fluct_pars = {\n",
    "    'target_subdomain': x_space,\n",
    "    'fluctuations': (1e-3, 1e-16),\n",
    "    'flexibility': (1e-3, 1e-16),\n",
    "    'asperity': (1e-3, 1e-16),\n",
    "    'loglogavgslope': (0., 1e-16)\n",
    "}\n",
    "\n",
    "init_model(cf_make_pars, cf_x_fluct_pars)"
   ]
  },
  {
   "cell_type": "code",
   "execution_count": null,
   "metadata": {},
   "outputs": [],
   "source": [
    "# Show neutral field\n",
    "eval_model(cf_make_pars, cf_x_fluct_pars, \"Neutral Field\")"
   ]
  },
  {
   "cell_type": "markdown",
   "metadata": {},
   "source": [
    "# Parameter Showcases\n",
    "\n",
    "## The `fluctuations` parameters of `add_fluctuations()`\n",
    "\n",
    "determine the **amplitude of variations along the field dimension**\n",
    "for which `add_fluctuations` is called.\n",
    "\n",
    "`fluctuations[0]` set the _average_ amplitude of the fields fluctuations along the given dimension,\\\n",
    "`fluctuations[1]` sets the width and shape of the amplitude distribution.\n",
    "\n",
    "The amplitude is modelled as being log-normally distributed,\n",
    "see `The Moment-Matched Log-Normal Distribution` above for details.\n",
    "\n",
    "#### `fluctuations` mean:"
   ]
  },
  {
   "cell_type": "code",
   "execution_count": null,
   "metadata": {},
   "outputs": [],
   "source": [
    "vary_parameter('fluctuations', [(0.05, 1e-16), (0.5, 1e-16), (2., 1e-16)], samples_vary_in='xi')"
   ]
  },
  {
   "cell_type": "markdown",
   "metadata": {},
   "source": [
    "#### `fluctuations` std:"
   ]
  },
  {
   "cell_type": "code",
   "execution_count": null,
   "metadata": {},
   "outputs": [],
   "source": [
    "vary_parameter('fluctuations', [(1., 0.01), (1., 0.1), (1., 1.)], samples_vary_in='fluctuations')\n",
    "cf_x_fluct_pars['fluctuations'] = (1., 1e-16)"
   ]
  },
  {
   "cell_type": "markdown",
   "metadata": {},
   "source": [
    "## The `loglogavgslope` parameters of `add_fluctuations()`\n",
    "\n",
    "determine **the slope of the loglog-linear (power law) component of the power spectrum**.\n",
    "\n",
    "The slope is modelled to be normally distributed.\n",
    "\n",
    "#### `loglogavgslope` mean:"
   ]
  },
  {
   "cell_type": "code",
   "execution_count": null,
   "metadata": {},
   "outputs": [],
   "source": [
    "vary_parameter('loglogavgslope', [(-3., 1e-16), (-1., 1e-16), (1., 1e-16)], samples_vary_in='xi')"
   ]
  },
  {
   "cell_type": "markdown",
   "metadata": {},
   "source": [
    "#### `loglogavgslope` std:"
   ]
  },
  {
   "cell_type": "code",
   "execution_count": null,
   "metadata": {},
   "outputs": [],
   "source": [
    "vary_parameter('loglogavgslope', [(-1., 0.01), (-1., 0.1), (-1., 1.0)], samples_vary_in='loglogavgslope')\n",
    "cf_x_fluct_pars['loglogavgslope'] = (-1., 1e-16)"
   ]
  },
  {
   "cell_type": "markdown",
   "metadata": {},
   "source": [
    "## The `flexibility` parameters of `add_fluctuations()`\n",
    "\n",
    "determine **the amplitude of the integrated Wiener process component of the power spectrum**\n",
    "(how strong the power spectrum varies besides the power-law).\n",
    "\n",
    "`flexibility[0]` sets the _average_ amplitude of the i.g.p. component,\\\n",
    "`flexibility[1]` sets how much the amplitude can vary.\\\n",
    "These two parameters feed into a moment-matched log-normal distribution model,\n",
    "see above for a demo of its behavior.\n",
    "\n",
    "#### `flexibility` mean:"
   ]
  },
  {
   "cell_type": "code",
   "execution_count": null,
   "metadata": {},
   "outputs": [],
   "source": [
    "vary_parameter('flexibility', [(0.1, 1e-16), (1.0, 1e-16), (3.0, 1e-16)], samples_vary_in='spectrum')"
   ]
  },
  {
   "cell_type": "markdown",
   "metadata": {},
   "source": [
    "#### `flexibility` std:"
   ]
  },
  {
   "cell_type": "code",
   "execution_count": null,
   "metadata": {},
   "outputs": [],
   "source": [
    "vary_parameter('flexibility', [(2., 0.01), (2., 0.1), (2., 1.)], samples_vary_in='flexibility')\n",
    "cf_x_fluct_pars['flexibility'] = (2., 1e-16)"
   ]
  },
  {
   "cell_type": "markdown",
   "metadata": {},
   "source": [
    "## The `asperity` parameters of `add_fluctuations()`\n",
    "\n",
    "`asperity` determines **how rough the integrated Wiener process component of the power spectrum is**.\n",
    "\n",
    "`asperity[0]` sets the average roughness, `asperity[1]` sets how much the roughness can vary.\\\n",
    "These two parameters feed into a moment-matched log-normal distribution model,\n",
    "see above for a demo of its behavior.\n",
    "\n",
    "#### `asperity` mean:"
   ]
  },
  {
   "cell_type": "code",
   "execution_count": null,
   "metadata": {},
   "outputs": [],
   "source": [
    "vary_parameter('asperity', [(0.001, 1e-16), (1.0, 1e-16), (5., 1e-16)], samples_vary_in='spectrum')"
   ]
  },
  {
   "cell_type": "markdown",
   "metadata": {},
   "source": [
    "#### `asperity` std:"
   ]
  },
  {
   "cell_type": "code",
   "execution_count": null,
   "metadata": {},
   "outputs": [],
   "source": [
    "vary_parameter('asperity', [(1., 0.01), (1., 0.1), (1., 1.)], samples_vary_in='asperity')\n",
    "cf_x_fluct_pars['asperity'] = (1., 1e-16)"
   ]
  },
  {
   "cell_type": "markdown",
   "metadata": {},
   "source": [
    "## The `offset_mean` parameter of `CorrelatedFieldMaker.make()`\n",
    "\n",
    "The `offset_mean` parameter defines a global additive offset on the field realizations.\n",
    "\n",
    "If the field is used for a lognormal model `f = field.exp()`, this acts as a global signal magnitude offset."
   ]
  },
  {
   "cell_type": "code",
   "execution_count": null,
   "metadata": {},
   "outputs": [],
   "source": [
    "# Reset model to neutral\n",
    "cf_x_fluct_pars['fluctuations'] = (1e-3, 1e-16)\n",
    "cf_x_fluct_pars['flexibility'] = (1e-3, 1e-16)\n",
    "cf_x_fluct_pars['asperity'] = (1e-3, 1e-16)\n",
    "cf_x_fluct_pars['loglogavgslope'] = (1e-3, 1e-16)"
   ]
  },
  {
   "cell_type": "code",
   "execution_count": null,
   "metadata": {},
   "outputs": [],
   "source": [
    "vary_parameter('offset_mean', [3., 0., -2.])"
   ]
  },
  {
   "cell_type": "markdown",
   "metadata": {},
   "source": [
    "## The `offset_std` parameters of `CorrelatedFieldMaker.make()`\n",
    "\n",
    "Variation of the global offset of the field are modelled as being log-normally distributed.\n",
    "See `The Moment-Matched Log-Normal Distribution` above for details.\n",
    "\n",
    "The `offset_std[0]` parameter sets how much NIFTy will vary the offset *on average*.\\\n",
    "The `offset_std[1]` parameters defines the with and shape of the offset variation distribution.\n",
    "\n",
    "#### `offset_std` mean:"
   ]
  },
  {
   "cell_type": "code",
   "execution_count": null,
   "metadata": {},
   "outputs": [],
   "source": [
    "vary_parameter('offset_std', [(1e-16, 1e-16), (0.5, 1e-16), (2., 1e-16)], samples_vary_in='xi')"
   ]
  },
  {
   "cell_type": "markdown",
   "metadata": {},
   "source": [
    "#### `offset_std` std:"
   ]
  },
  {
   "cell_type": "code",
   "execution_count": null,
   "metadata": {},
   "outputs": [],
   "source": [
    "vary_parameter('offset_std', [(1., 0.01), (1., 0.1), (1., 1.)], samples_vary_in='zeromode')"
   ]
  }
 ],
 "metadata": {
  "kernelspec": {
   "display_name": "Python 3",
   "language": "python",
   "name": "python3"
  },
  "language_info": {
   "codemirror_mode": {
    "name": "ipython",
    "version": 3
   },
   "file_extension": ".py",
   "mimetype": "text/x-python",
   "name": "python",
   "nbconvert_exporter": "python",
   "pygments_lexer": "ipython3",
   "version": "3.8.3"
  }
 },
 "nbformat": 4,
 "nbformat_minor": 4
}
